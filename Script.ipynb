{
 "cells": [
  {
   "cell_type": "code",
   "execution_count": null,
   "outputs": [],
   "source": [
    "limit = int(input(\"Digite o número max\"))\n",
    "number = 0\n",
    "while number < limit:\n",
    "    if number > 1:\n",
    "        for i in range(2, number):\n",
    "            if number % i == 0:\n",
    "                break\n",
    "        else:\n",
    "            print(number, 'é primo')\n",
    "    number += 1"
   ],
   "metadata": {
    "collapsed": false,
    "pycharm": {
     "name": "#%%\n",
     "is_executing": true
    }
   }
  },
  {
   "cell_type": "code",
   "execution_count": null,
   "outputs": [],
   "source": [
    "from datetime import date\n",
    "nome = str(input(\"Qual o seu nome?\"))\n",
    "idade = int(input(f'Bem-vindo(a) {nome}, agora me fala... qual a sua idade?'))\n",
    "data_atual = date.today()\n",
    "ano_nascimento = data_atual.year - idade\n",
    "print(f'Então quer dizer que em {ano_nascimento + 100} você terá 100 anos lol!!!')\n"
   ],
   "metadata": {
    "collapsed": false,
    "pycharm": {
     "name": "#%%\n",
     "is_executing": true
    }
   }
  },
  {
   "cell_type": "code",
   "execution_count": null,
   "outputs": [],
   "source": [
    "x = int(input('Bem-vindo, Digite um número e descubra se ele é PAR ou ÍMPAR'))\n",
    "if x % 2 == 0:\n",
    "    print(f'{x} é PAR')\n",
    "else:\n",
    "    print(f'{x} é ÍMPAR')"
   ],
   "metadata": {
    "collapsed": false,
    "pycharm": {
     "name": "#%%\n",
     "is_executing": true
    }
   }
  },
  {
   "cell_type": "code",
   "execution_count": 2,
   "outputs": [
    {
     "name": "stdout",
     "output_type": "stream",
     "text": [
      "0 é PAR\n",
      "1 é ÍMPAR\n",
      "2 é PAR\n",
      "3 é ÍMPAR\n",
      "4 é PAR\n",
      "5 é ÍMPAR\n",
      "6 é PAR\n",
      "7 é ÍMPAR\n",
      "8 é PAR\n",
      "9 é ÍMPAR\n",
      "10 é PAR\n",
      "11 é ÍMPAR\n",
      "12 é PAR\n",
      "13 é ÍMPAR\n",
      "14 é PAR\n",
      "15 é ÍMPAR\n",
      "16 é PAR\n",
      "17 é ÍMPAR\n",
      "18 é PAR\n",
      "19 é ÍMPAR\n",
      "20 é PAR\n"
     ]
    }
   ],
   "source": [
    "num = int(input(\"Digite quantos números quer testar\"))\n",
    "\n",
    "for i in range(0,num + 1):\n",
    "    if i % 2 == 0:\n",
    "        print(f'{i} é PAR')\n",
    "    else:\n",
    "        print(f'{i} é ÍMPAR')"
   ],
   "metadata": {
    "collapsed": false,
    "pycharm": {
     "name": "#%%\n"
    }
   }
  },
  {
   "cell_type": "code",
   "execution_count": 18,
   "outputs": [
    {
     "name": "stdout",
     "output_type": "stream",
     "text": [
      "Hoje é: 18/08/2022\n"
     ]
    }
   ],
   "source": [
    "import datetime\n",
    "\n",
    "a = datetime.datetime(int(input('Olá! Em que ano estamos?')), int(input('Qual mês?')), int(input('E qual dia?')))\n",
    "print(a.strftime('Hoje é: %d/%m/%Y'))\n"
   ],
   "metadata": {
    "collapsed": false,
    "pycharm": {
     "name": "#%%\n"
    }
   }
  },
  {
   "cell_type": "code",
   "execution_count": 16,
   "outputs": [
    {
     "name": "stdout",
     "output_type": "stream",
     "text": [
      "<class 'int'>\n",
      "<class 'int'>\n",
      "18\n"
     ]
    }
   ],
   "source": [
    "# INT\n",
    "idade = 18\n",
    "ano = 2002\n",
    "\n",
    "print(type(idade))\n",
    "print(type(ano))\n",
    "print(idade)"
   ],
   "metadata": {
    "collapsed": false,
    "pycharm": {
     "name": "#%%\n"
    }
   }
  },
  {
   "cell_type": "code",
   "execution_count": 17,
   "outputs": [
    {
     "name": "stdout",
     "output_type": "stream",
     "text": [
      "<class 'float'>\n",
      "<class 'float'>\n",
      "1.8\n"
     ]
    }
   ],
   "source": [
    "#FLOAT\n",
    "altura = 1.80\n",
    "peso = 73.55\n",
    "\n",
    "print(type(peso))\n",
    "print(type(altura))\n",
    "print(altura)"
   ],
   "metadata": {
    "collapsed": false,
    "pycharm": {
     "name": "#%%\n"
    }
   }
  },
  {
   "cell_type": "code",
   "execution_count": 8,
   "outputs": [
    {
     "name": "stdout",
     "output_type": "stream",
     "text": [
      "<class 'complex'>\n",
      "<class 'complex'>\n",
      "(2+5j)\n"
     ]
    }
   ],
   "source": [
    "#COMPLEXO\n",
    "a = 5+2j\n",
    "b = 20+6j\n",
    "\n",
    "print(type(a))\n",
    "print(type(b))\n",
    "print(complex(2, 5))"
   ],
   "metadata": {
    "collapsed": false,
    "pycharm": {
     "name": "#%%\n"
    }
   }
  },
  {
   "cell_type": "code",
   "execution_count": 15,
   "outputs": [
    {
     "name": "stdout",
     "output_type": "stream",
     "text": [
      "<class 'str'>\n",
      "<class 'str'>\n",
      "Guilherme\n"
     ]
    }
   ],
   "source": [
    "#STRING\n",
    "nome = 'Guilherme'\n",
    "profissao = 'Engenheiro de Software'\n",
    "\n",
    "print(type(profissao))\n",
    "print(type(nome))\n",
    "print(nome)"
   ],
   "metadata": {
    "collapsed": false,
    "pycharm": {
     "name": "#%%\n"
    }
   }
  },
  {
   "cell_type": "code",
   "execution_count": 14,
   "outputs": [
    {
     "name": "stdout",
     "output_type": "stream",
     "text": [
      "<class 'bool'>\n",
      "<class 'bool'>\n",
      "True\n"
     ]
    }
   ],
   "source": [
    "#BOOLEAN\n",
    "fim_de_semana = True\n",
    "feriado = False\n",
    "\n",
    "print(type(fim_de_semana))\n",
    "print(type(feriado))\n",
    "print(fim_de_semana)"
   ],
   "metadata": {
    "collapsed": false,
    "pycharm": {
     "name": "#%%\n"
    }
   }
  },
  {
   "cell_type": "code",
   "execution_count": 13,
   "outputs": [
    {
     "name": "stdout",
     "output_type": "stream",
     "text": [
      "<class 'list'>\n",
      "<class 'list'>\n",
      "['Amanda', 'Ana', 'Bruno', 'João']\n"
     ]
    }
   ],
   "source": [
    "#LISTAS\n",
    "alunos = ['Amanda', 'Ana', 'Bruno', 'João']\n",
    "notas = [10, 8.5, 7.8, 8.0]\n",
    "\n",
    "print(type(alunos))\n",
    "print(type(notas))\n",
    "print(alunos)"
   ],
   "metadata": {
    "collapsed": false,
    "pycharm": {
     "name": "#%%\n"
    }
   }
  },
  {
   "cell_type": "code",
   "execution_count": 12,
   "outputs": [
    {
     "name": "stdout",
     "output_type": "stream",
     "text": [
      "<class 'tuple'>\n",
      "<class 'tuple'>\n",
      "(90, 79, 54, 32, 21)\n"
     ]
    }
   ],
   "source": [
    "#TUPLE\n",
    "valores = (90, 79, 54, 32, 21)\n",
    "pontos = (100, 94.05, 86.8, 62)\n",
    "\n",
    "print(type(valores))\n",
    "print(type(pontos))\n",
    "print(valores)"
   ],
   "metadata": {
    "collapsed": false,
    "pycharm": {
     "name": "#%%\n"
    }
   }
  },
  {
   "cell_type": "code",
   "execution_count": 11,
   "outputs": [
    {
     "name": "stdout",
     "output_type": "stream",
     "text": [
      "<class 'dict'>\n",
      "<class 'dict'>\n",
      "{'Amanda': 1.65, 'Ana': 1.6, 'João': 1.7}\n"
     ]
    }
   ],
   "source": [
    "#DICIONÁRIOS\n",
    "altura = {'Amanda': 1.65, 'Ana': 1.60, 'João': 1.70}\n",
    "peso = {'Amanda': 60, 'Ana': 58, 'João': 68}\n",
    "\n",
    "print(type(altura))\n",
    "print(type(peso))\n",
    "print(altura)\n"
   ],
   "metadata": {
    "collapsed": false,
    "pycharm": {
     "name": "#%%\n"
    }
   }
  },
  {
   "cell_type": "code",
   "execution_count": null,
   "outputs": [],
   "source": [],
   "metadata": {
    "collapsed": false,
    "pycharm": {
     "name": "#%%\n"
    }
   }
  }
 ],
 "metadata": {
  "kernelspec": {
   "display_name": "Python 3",
   "language": "python",
   "name": "python3"
  },
  "language_info": {
   "codemirror_mode": {
    "name": "ipython",
    "version": 2
   },
   "file_extension": ".py",
   "mimetype": "text/x-python",
   "name": "python",
   "nbconvert_exporter": "python",
   "pygments_lexer": "ipython2",
   "version": "2.7.6"
  }
 },
 "nbformat": 4,
 "nbformat_minor": 0
}