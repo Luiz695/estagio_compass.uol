{
 "cells": [
  {
   "cell_type": "code",
   "execution_count": 4,
   "outputs": [
    {
     "name": "stdout",
     "output_type": "stream",
     "text": [
      "2 é primo\n",
      "3 é primo\n",
      "5 é primo\n",
      "7 é primo\n"
     ]
    }
   ],
   "source": [
    "limit = int(input(\"Digite o número max\"))\n",
    "number = 0\n",
    "while number < limit:\n",
    "    if number > 1:\n",
    "        for i in range(2, number):\n",
    "            if number % i == 0:\n",
    "                break\n",
    "        else:\n",
    "            print(number, 'é primo')\n",
    "    number += 1"
   ],
   "metadata": {
    "collapsed": false,
    "pycharm": {
     "name": "#%%\n"
    }
   }
  },
  {
   "cell_type": "code",
   "execution_count": 12,
   "outputs": [
    {
     "name": "stdout",
     "output_type": "stream",
     "text": [
      "Então quer dizer que em 2092 você terá 100 anos lol!!!\n"
     ]
    }
   ],
   "source": [
    "from datetime import date\n",
    "\n",
    "nome = str(input(\"Qual o seu nome?\"))\n",
    "idade = int(input(f'Bem-vindo(a) {nome}, agora me fala... qual a sua idade?'))\n",
    "data_atual = date.today()\n",
    "ano_nascimento = data_atual.year - idade\n",
    "print(f'Então quer dizer que em {ano_nascimento + 100} você terá 100 anos lol!!!')\n"
   ],
   "metadata": {
    "collapsed": false,
    "pycharm": {
     "name": "#%%\n"
    }
   }
  },
  {
   "cell_type": "code",
   "execution_count": 16,
   "outputs": [
    {
     "name": "stdout",
     "output_type": "stream",
     "text": [
      "0 é PAR\n"
     ]
    }
   ],
   "source": [
    "x = int(input('Bem-vindo, Digite um número e descubra se ele é PAR ou ÍMPAR'))\n",
    "if x % 2 == 0:\n",
    "    print(f'{x} é PAR')\n",
    "else:\n",
    "    print(f'{x} é ÍMPAR')"
   ],
   "metadata": {
    "collapsed": false,
    "pycharm": {
     "name": "#%%\n"
    }
   }
  },
  {
   "cell_type": "code",
   "execution_count": 17,
   "outputs": [
    {
     "name": "stdout",
     "output_type": "stream",
     "text": [
      "0 é PAR\n",
      "1 é ÍMPAR\n",
      "2 é PAR\n",
      "3 é ÍMPAR\n",
      "4 é PAR\n",
      "5 é ÍMPAR\n",
      "6 é PAR\n",
      "7 é ÍMPAR\n",
      "8 é PAR\n",
      "9 é ÍMPAR\n",
      "10 é PAR\n",
      "11 é ÍMPAR\n",
      "12 é PAR\n",
      "13 é ÍMPAR\n",
      "14 é PAR\n",
      "15 é ÍMPAR\n",
      "16 é PAR\n",
      "17 é ÍMPAR\n",
      "18 é PAR\n",
      "19 é ÍMPAR\n",
      "20 é PAR\n"
     ]
    }
   ],
   "source": [
    "for i in range(0,20 + 1):\n",
    "    if i % 2 == 0:\n",
    "        print(f'{i} é PAR')\n",
    "    else:\n",
    "        print(f'{i} é ÍMPAR')"
   ],
   "metadata": {
    "collapsed": false,
    "pycharm": {
     "name": "#%%\n"
    }
   }
  },
  {
   "cell_type": "code",
   "execution_count": 23,
   "outputs": [
    {
     "name": "stdout",
     "output_type": "stream",
     "text": [
      "Hoje é: 22/10/0022\n"
     ]
    }
   ],
   "source": [
    "import datetime\n",
    "\n",
    "a = datetime.datetime(int(input('Olá! Em que ano estamos?')), int(input('Qual mês?')), int(input('E qual dia?')))\n",
    "print(a.strftime('Hoje é: %d/%m/%Y'))\n"
   ],
   "metadata": {
    "collapsed": false,
    "pycharm": {
     "name": "#%%\n"
    }
   }
  }
 ],
 "metadata": {
  "kernelspec": {
   "display_name": "Python 3",
   "language": "python",
   "name": "python3"
  },
  "language_info": {
   "codemirror_mode": {
    "name": "ipython",
    "version": 2
   },
   "file_extension": ".py",
   "mimetype": "text/x-python",
   "name": "python",
   "nbconvert_exporter": "python",
   "pygments_lexer": "ipython2",
   "version": "2.7.6"
  }
 },
 "nbformat": 4,
 "nbformat_minor": 0
}